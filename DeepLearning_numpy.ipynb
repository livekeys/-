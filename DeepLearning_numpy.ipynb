{
 "cells": [
  {
   "cell_type": "markdown",
   "metadata": {},
   "source": [
    "# 一个简单的深度神经网络的例子\n",
    "\n",
    "我们运用神经网络来训练一个模型，用来识别图片是不是猫，数据集我们用 64*64*3的图片来作为输入，输出为一个单元，即 1 或 0,0 代表不是猫，1 代表是猫"
   ]
  },
  {
   "cell_type": "markdown",
   "metadata": {},
   "source": [
    "## 1 引入我们需要的一些库"
   ]
  },
  {
   "cell_type": "code",
   "execution_count": 167,
   "metadata": {},
   "outputs": [],
   "source": [
    "import numpy as np\n",
    "import matplotlib.pyplot as plt\n",
    "\n",
    "from random import randint\n",
    "\n",
    "# 设置 matpltolib 的一些默认值\n",
    "%matplotlib inline\n",
    "plt.rcParams['figure.figsize'] = (5.0, 4.0) \n",
    "plt.rcParams['image.interpolation'] = 'nearest'\n",
    "plt.rcParams['image.cmap'] = 'gray'"
   ]
  },
  {
   "cell_type": "markdown",
   "metadata": {},
   "source": [
    "## 2 编写一些工具函数\n",
    "\n",
    "> 1\\) sigmoid 激活函数 sigmoid\n",
    ">\n",
    "> 2\\) relu 激活函数 relu\n",
    ">\n",
    "> 3\\) sigmoid_backward 激活函数求导（注：这个函数求的是 dA * g'(Z)，而 g'(Z) 才是求导函数）\n",
    ">\n",
    "> 4\\) relu_backward 激活函数求导\n",
    ">\n",
    "> 5\\) load_data 从文件加载数据"
   ]
  },
  {
   "cell_type": "code",
   "execution_count": 169,
   "metadata": {},
   "outputs": [],
   "source": [
    "def sigmoid(Z):\n",
    "    '''\n",
    "    参数\n",
    "    Z: shape = (output_dim, m) # output_dim 指当前层的单元数\n",
    "    \n",
    "    返回值\n",
    "    1/(1+np.exp(-Z)): sigmoid 计算结果 shape = (output_dim, m)\n",
    "    '''\n",
    "    return 1/(1+np.exp(-Z))\n",
    "\n",
    "def relu(Z):\n",
    "    '''\n",
    "    参数\n",
    "    Z: shape = (output_dim, m) # output_dim 指当前层的单元数\n",
    "    \n",
    "    返回值\n",
    "    np.maximum(0, Z): relu 计算结果 shape = (output_dim, m)\n",
    "    '''\n",
    "\n",
    "    return np.maximum(0,Z)\n",
    "\n",
    "'''\n",
    "计算dZ\n",
    "dZ = dA * g(Z) * (1 - g(Z))\n",
    "'''\n",
    "def relu_backward(dA, cache):  \n",
    "    '''\n",
    "    dA: shape = (output_dim, m) # output_dim 为当前层的单元数\n",
    "    cache: shape = (output_dim, m)\n",
    "    '''\n",
    "    Z = cache\n",
    "    dZ = np.array(dA, copy=True) # just converting dz to a correct object.\n",
    "    \n",
    "    # When z <= 0, you should set dz to 0 as well. \n",
    "    dZ[Z <= 0] = 0\n",
    "        \n",
    "    return dZ\n",
    "\n",
    "def sigmoid_backward(dA, cache):\n",
    "    '''\n",
    "    dA: shape = (output_dim, m) # output_dim 指当前层的单元数\n",
    "    cache: shape = (output_dim, m)\n",
    "    '''\n",
    "    Z = cache\n",
    "    \n",
    "    s = 1/(1+np.exp(-Z))\n",
    "    dZ = dA * s * (1-s)\n",
    "    \n",
    "    assert (dZ.shape == Z.shape)\n",
    "    \n",
    "    return dZ\n",
    "\n",
    "\n",
    "def load_data():\n",
    "    # 把文件读取到内存中\n",
    "    train_dataset = h5py.File('datasets/train_catvnoncat.h5', \"r\")\n",
    "    train_set_x_orig = np.array(train_dataset[\"train_set_x\"][:]) # 训练集特征\n",
    "    train_set_y_orig = np.array(train_dataset[\"train_set_y\"][:]) # 训练标签\n",
    "\n",
    "    test_dataset = h5py.File('datasets/test_catvnoncat.h5', \"r\")\n",
    "    test_set_x_orig = np.array(test_dataset[\"test_set_x\"][:]) # 测试集特征\n",
    "    test_set_y_orig = np.array(test_dataset[\"test_set_y\"][:]) # 测试标签\n",
    "\n",
    "    classes = np.array(test_dataset[\"list_classes\"][:]) # 类别，即 1 和 0\n",
    "    \n",
    "    train_set_y_orig = train_set_y_orig.reshape((1, train_set_y_orig.shape[0]))\n",
    "    test_set_y_orig = test_set_y_orig.reshape((1, test_set_y_orig.shape[0]))\n",
    "    \n",
    "    return train_set_x_orig, train_set_y_orig, test_set_x_orig, test_set_y_orig, classes"
   ]
  },
  {
   "cell_type": "markdown",
   "metadata": {},
   "source": [
    "## 3 定义神经网络的结构\n",
    "\n",
    "input_dim 代表输入维度\n",
    "\n",
    "output_dim 代表输出维度\n",
    "\n",
    "activation 代表当前层所用的激活函数"
   ]
  },
  {
   "cell_type": "code",
   "execution_count": 2,
   "metadata": {},
   "outputs": [],
   "source": [
    "# 定义神经网络的结构\n",
    "'''\n",
    "即有四层，第一层为 12288 的输入，第二层有 20 个单元 ......\n",
    "'''\n",
    "nn_architecture = [\n",
    "    {'input_dim': 12288, 'output_dim': 20, 'activation': 'relu'},\n",
    "    {'input_dim': 20, 'output_dim': 7, 'activation': 'relu'},\n",
    "    {'input_dim': 7, 'output_dim': 5, 'activation': 'relu'},\n",
    "    {'input_dim': 5, 'output_dim': 1, 'activation': 'sigmoid'}\n",
    "]\n"
   ]
  },
  {
   "cell_type": "markdown",
   "metadata": {},
   "source": [
    "## 4 根据网络结构随机初始化参数 W，b"
   ]
  },
  {
   "cell_type": "code",
   "execution_count": 5,
   "metadata": {},
   "outputs": [],
   "source": [
    "# 根据结构随机初始化参数 W, b\n",
    "def init_params(nn_architecture):\n",
    "    np.random.seed(1)\n",
    "    \n",
    "    params = {}\n",
    "    for id, layer in enumerate(nn_architecture):\n",
    "        # layer_id -> [1, 2, 3, 4]\n",
    "        layer_id = id + 1\n",
    "        params['W' + str(layer_id)] = np.random.randn(layer['output_dim'], layer['input_dim']) / np.sqrt(layer['input_dim'])\n",
    "        params['b' + str(layer_id)] = np.zeros((layer['output_dim'], 1))\n",
    "    \n",
    "    return params"
   ]
  },
  {
   "cell_type": "markdown",
   "metadata": {},
   "source": [
    "## 5 前向传播"
   ]
  },
  {
   "cell_type": "code",
   "execution_count": 15,
   "metadata": {},
   "outputs": [],
   "source": [
    "# 单层前向传播\n",
    "def layer_forward(W_curr, b_curr, A_prev, activation):\n",
    "    '''\n",
    "    计算\n",
    "    Z_curr = W_curr·A_prev + b_curr\n",
    "    A_curr = g(Z_curr)\n",
    "    \n",
    "    参数\n",
    "    W_curr: 当前层的 W 参数\n",
    "    b_curr: 当前层的 b 参数\n",
    "    A_prev: 上一层的 A 矩阵\n",
    "    activation: 当前层要用的激活函数\n",
    "    \n",
    "    返回值\n",
    "    Z_curr: 当前层的 Z\n",
    "    A_curr: 当前层的 A\n",
    "    '''\n",
    "    Z_curr = np.dot(W_curr, A_prev) + b_curr\n",
    "    \n",
    "    # 判断激活函数并求 A\n",
    "    if activation == 'relu':\n",
    "        A_curr = relu(Z_curr)\n",
    "    elif activation == 'sigmoid':\n",
    "        A_curr = sigmoid(Z_curr)\n",
    "    else:\n",
    "        raise Exception('不支持的激活函数类型！')\n",
    "    \n",
    "    return Z_curr, A_curr"
   ]
  },
  {
   "cell_type": "code",
   "execution_count": 48,
   "metadata": {},
   "outputs": [],
   "source": [
    "# 完整前向传播\n",
    "def full_forward(X, params, nn_architecture):\n",
    "    '''\n",
    "    参数\n",
    "    X: 输入\n",
    "    params: W, b 参数存放的变量\n",
    "    nn_architecture: 结构\n",
    "    \n",
    "    caches 存储格式\n",
    "    因为反向传播的时候也要用到上一层的 A，\n",
    "    所以这里把上一层的 A，当前层的 Z 存入到 caches 中，方便调用\n",
    "    caches = [\n",
    "    {'A_prev': A_prev, 'Z_curr': Z_curr}, # 第一层存储的数据\n",
    "    {'A_prev': A_prev, 'Z_curr': Z_curr}, \n",
    "    .\n",
    "    .\n",
    "    ]\n",
    "    \n",
    "    返回值\n",
    "    A_curr: 最后一层的 A ,也就是 AL(Y_hat)\n",
    "    caches: 存放上一层的 A 和 当前层的 Z 的列表\n",
    "    '''\n",
    "    caches = []\n",
    "    \n",
    "    # X 作为 第零层 A\n",
    "    A_curr = X\n",
    "    \n",
    "    for id, layer in enumerate(nn_architecture):\n",
    "        # layer_id -> [1, 2, 3, 4]\n",
    "        layer_id = id + 1\n",
    "        \n",
    "        # 获取上一层的 A\n",
    "        A_prev = A_curr\n",
    "        \n",
    "        # 从 params 中获取当前层的 W 和 b\n",
    "        W_curr = params['W' + str(layer_id)]\n",
    "        b_curr = params['b' + str(layer_id)]\n",
    "        # 从 layer 中获取激活函数\n",
    "        activation = layer['activation']\n",
    "        \n",
    "        # 求当前层的 Z 和 A\n",
    "        Z_curr, A_curr = layer_forward(W_curr, b_curr, A_prev, activation)\n",
    "        \n",
    "        # 把 上一层的 A 和 当前层的 Z 放入内存\n",
    "        caches.append({\n",
    "            'A_prev': A_prev,\n",
    "            'Z_curr': Z_curr\n",
    "        })\n",
    "    return A_curr, caches"
   ]
  },
  {
   "cell_type": "markdown",
   "metadata": {},
   "source": [
    "## 6 计算损失和准确度"
   ]
  },
  {
   "cell_type": "code",
   "execution_count": 170,
   "metadata": {},
   "outputs": [],
   "source": [
    "# 获取损失值\n",
    "def get_cost(Y_hat, Y):\n",
    "    # 获取样本数量\n",
    "    m = Y_hat.shape[1]\n",
    "    \n",
    "    cost = -1 / m * (np.dot(Y, np.log(Y_hat).T) + np.dot(1 - Y, np.log(1 - Y_hat).T))\n",
    "    \n",
    "    # cost 为一个一行一列的数据[[0.256654]], np.squeeze 让其变成一个数值\n",
    "    cost = np.squeeze(cost)\n",
    "    \n",
    "    return cost"
   ]
  },
  {
   "cell_type": "code",
   "execution_count": 171,
   "metadata": {},
   "outputs": [],
   "source": [
    "# 把预测值进行分类，预测值求出来都是一些小数，对于二分类问题，我们把对他分成两类\n",
    "def convert_into_class(Y_hat):\n",
    "    # 复制矩阵\n",
    "    prob = np.copy(Y_hat)\n",
    "    # 把矩阵里面所有的 >0.5 归类为 1\n",
    "    #                  <=0.5 归类为 0\n",
    "    prob[prob > 0.5] = 1\n",
    "    prob[prob <= 0.5] = 0\n",
    "    \n",
    "    return prob"
   ]
  },
  {
   "cell_type": "code",
   "execution_count": 118,
   "metadata": {},
   "outputs": [],
   "source": [
    "# 获取准确度\n",
    "def get_accuracy(Y_hat, Y):\n",
    "    # 先进行分类，再求精度\n",
    "    prob = convert_into_class(Y_hat)\n",
    "#     accu = float(np.dot(Y, prob.T) + np.dot(1 - Y, 1 - prob.T)) / float(Y_hat.shape[1])\n",
    "    # 上面的注释的方法也可求精确度\n",
    "    accu = np.sum((prob == Y) / Y_hat.shape[1])\n",
    "    accu = np.squeeze(accu)\n",
    "    \n",
    "    return accu"
   ]
  },
  {
   "cell_type": "markdown",
   "metadata": {},
   "source": [
    "## 7 反向传播"
   ]
  },
  {
   "cell_type": "code",
   "execution_count": 87,
   "metadata": {},
   "outputs": [],
   "source": [
    "# 单层反向传播\n",
    "def layer_backward(dA_curr, W_curr, Z_curr, A_prev, activation):\n",
    "    '''\n",
    "    计算\n",
    "    dZ = dA * g(Z) * (1 - g(Z))\n",
    "    dW = dZ·A.T / m\n",
    "    db = np.sum(dZ, axis=1, keepdims=True) / m\n",
    "    \n",
    "    参数\n",
    "    dA_curr: 当前层的 dA\n",
    "    W_curr: 当前层的 W 参数\n",
    "    Z_curr: 当前层的 Z 参数\n",
    "    A_prev: 上一层的 A 参数\n",
    "    activation: 当前层的激活函数\n",
    "    \n",
    "    返回值\n",
    "    dW_curr: 当前层的 dW\n",
    "    db_curr: 当前层的 db\n",
    "    dA_prev: 上一层的 dA\n",
    "    '''\n",
    "    m = A_prev.shape[1] # 求出样本个数\n",
    "    # 求出 dZ_curr\n",
    "    if activation == 'relu':\n",
    "        dZ_curr = relu_backward(dA_curr, Z_curr)\n",
    "    elif activation == 'sigmoid':\n",
    "        dZ_curr = sigmoid_backward(dA_curr, Z_curr)\n",
    "    else:\n",
    "        raise Exception (\"不支持的激活函数类型！\")\n",
    "        \n",
    "    dW_curr = np.dot(dZ_curr, A_prev.T) / m\n",
    "    db_curr = np.sum(dZ_curr, axis=1, keepdims=True) / m\n",
    "    dA_prev = np.dot(W_curr.T, dZ_curr)\n",
    "    \n",
    "    return dW_curr, db_curr, dA_prev\n"
   ]
  },
  {
   "cell_type": "code",
   "execution_count": 49,
   "metadata": {},
   "outputs": [],
   "source": [
    "# 完整反向传播\n",
    "def full_backward(Y_hat, Y, params, caches, nn_architecture):\n",
    "    '''\n",
    "    参数\n",
    "    Y_hat: 预测值(最后一层的 A 值)\n",
    "    Y: 真实 Y 矩阵\n",
    "    params: 存放每层 W, b 参数\n",
    "    caches: 存放有前向传播中的 A , Z \n",
    "    nn_architecture: 结构\n",
    "    \n",
    "    返回\n",
    "    grads: 梯度值\n",
    "    '''\n",
    "    # 存放要进行梯度下降的 dW, db 参数，存放形式和 params 一样\n",
    "    grads = {}\n",
    "    \n",
    "    # 计算最后一层的 dA\n",
    "    dA_prev = - (np.divide(Y, Y_hat) - np.divide(1 - Y, 1 - Y_hat))\n",
    "    \n",
    "    for id, layer in reversed(list(enumerate(nn_architecture))):\n",
    "        # layer_id -> [4, 3, 2, 1]\n",
    "        layer_id = id + 1\n",
    "        \n",
    "        # 当前层的 dA 为上一次计算出来的 dA_prev\n",
    "        dA_curr = dA_prev\n",
    "        # 从 params 中取出 当前层的 W 参数\n",
    "        W_curr = params['W' + str(layer_id)]\n",
    "        # 从 caches 内存中取出我们在前向传播中存放的数据\n",
    "        A_prev = caches[id]['A_prev']\n",
    "        Z_curr = caches[id]['Z_curr']\n",
    "        # 从当前层的结构中取出激活函数\n",
    "        activation = layer['activation']\n",
    "        \n",
    "        # 计算当前层的梯度值 dW, db，以及上一层的 dA\n",
    "        dW_curr, db_curr, dA_prev = layer_backward(dA_curr,\n",
    "                                                   W_curr, \n",
    "                                                   Z_curr,\n",
    "                                                   A_prev,\n",
    "                                                   activation)\n",
    "        # 把梯度值放入 grads 中\n",
    "        grads['dW' + str(layer_id)] = dW_curr\n",
    "        grads['db' + str(layer_id)] = db_curr\n",
    "    \n",
    "    return grads"
   ]
  },
  {
   "cell_type": "markdown",
   "metadata": {},
   "source": [
    "## 8 更新参数"
   ]
  },
  {
   "cell_type": "code",
   "execution_count": 90,
   "metadata": {},
   "outputs": [],
   "source": [
    "# 更新参数\n",
    "def update_params(params, grads, learning_rate):\n",
    "    '''\n",
    "    参数\n",
    "    params: W,b 参数\n",
    "    grads: 梯度值\n",
    "    learning_rate: 梯度下降时的学习率\n",
    "    \n",
    "    返回\n",
    "    params: 更新后的参数\n",
    "    '''\n",
    "    for id in range(len(params) // 2):\n",
    "        # layer_id -> [1, 2, 3, 4]\n",
    "        layer_id = id + 1\n",
    "        params['W' + str(layer_id)] -= learning_rate * grads['dW' + str(layer_id)]\n",
    "        params['b' + str(layer_id)] -= learning_rate * grads['db' + str(layer_id)]\n",
    "    \n",
    "    return params"
   ]
  },
  {
   "cell_type": "markdown",
   "metadata": {},
   "source": [
    "## 9 定义这个模型"
   ]
  },
  {
   "cell_type": "code",
   "execution_count": 172,
   "metadata": {},
   "outputs": [],
   "source": [
    "# 定义模型\n",
    "def dnn_model(X, Y, nn_architecture, epochs=2000, learning_rate=0.0075):\n",
    "    np.random.seed(1)\n",
    "    params = init_params(nn_architecture)\n",
    "    costs = []\n",
    "    \n",
    "    for i in range(1, epochs + 1):\n",
    "        # 前向传播\n",
    "        Y_hat, caches = full_forward(X, params, nn_architecture)\n",
    "        \n",
    "        # 计算损失\n",
    "        cost = get_cost(Y_hat, Y)\n",
    "        \n",
    "        # 计算精度\n",
    "        accu = get_accuracy(Y_hat, Y)\n",
    "        \n",
    "        # 反向传播\n",
    "        grads = full_backward(Y_hat, Y, params, caches, nn_architecture)\n",
    "        \n",
    "        # 更新参数\n",
    "        params = update_params(params, grads, learning_rate)\n",
    "        \n",
    "        if i % 100 == 0:\n",
    "            print ('Iter: {:05}, cost: {:.5f}, accu: {:.5f}'.format(i, cost, accu))\n",
    "            costs.append(cost)\n",
    "            \n",
    "    # 画出 cost 曲线图\n",
    "    plt.plot(np.squeeze(costs))\n",
    "    plt.ylabel('cost')\n",
    "    plt.xlabel('iterations (per tens)')\n",
    "    plt.title(\"Learning rate =\" + str(learning_rate))\n",
    "    plt.show()\n",
    "    \n",
    "    return params "
   ]
  },
  {
   "cell_type": "markdown",
   "metadata": {},
   "source": [
    "## 10 加载数据并进行归一化"
   ]
  },
  {
   "cell_type": "code",
   "execution_count": 173,
   "metadata": {},
   "outputs": [],
   "source": [
    "train_x_orig, train_y, test_x_orig, test_y, classes = load_data()\n",
    "\n",
    "m_train = train_x_orig.shape[0] # 训练样本的数量\n",
    "m_test = test_x_orig.shape[0] # 测试样本的数量\n",
    "num_px = test_x_orig.shape[1] # 每张图片的宽/高\n",
    "\n",
    "# 为了方便后面进行矩阵运算，我们需要将样本数据进行扁平化和转置\n",
    "# 处理后的数组各维度的含义是（图片数据，样本数）\n",
    "train_x_flatten = train_x_orig.reshape(train_x_orig.shape[0], -1).T\n",
    "test_x_flatten = test_x_orig.reshape(test_x_orig.shape[0], -1).T \n",
    "\n",
    "# 下面我们对特征数据进行了简单的标准化处理（除以255，使所有值都在[0，1]范围内）\n",
    "train_x = train_x_flatten/255.\n",
    "test_x = test_x_flatten/255.\n"
   ]
  },
  {
   "cell_type": "code",
   "execution_count": 132,
   "metadata": {},
   "outputs": [],
   "source": [
    "# 预测函数\n",
    "def predict(X, Y, params, nn_architecture):\n",
    "    Y_hat, _ = full_forward(X, params, nn_architecture)\n",
    "    accu = get_accuracy(Y_hat, Y)\n",
    "    print ('预测精确度为：{:.2f}'.format(accu))\n",
    "    return Y_hat"
   ]
  },
  {
   "cell_type": "code",
   "execution_count": 129,
   "metadata": {},
   "outputs": [
    {
     "name": "stdout",
     "output_type": "stream",
     "text": [
      "Iter: 00100, cost: 0.67239, accu: 0.67943\n",
      "Iter: 00200, cost: 0.64575, accu: 0.74641\n",
      "Iter: 00300, cost: 0.62782, accu: 0.72727\n",
      "Iter: 00400, cost: 0.59732, accu: 0.75598\n",
      "Iter: 00500, cost: 0.52155, accu: 0.85646\n",
      "Iter: 00600, cost: 0.48313, accu: 0.87560\n",
      "Iter: 00700, cost: 0.43010, accu: 0.91866\n",
      "Iter: 00800, cost: 0.36453, accu: 0.95694\n",
      "Iter: 00900, cost: 0.34318, accu: 0.93780\n",
      "Iter: 01000, cost: 0.29341, accu: 0.95215\n",
      "Iter: 01100, cost: 0.25503, accu: 0.96172\n",
      "Iter: 01200, cost: 0.22804, accu: 0.97608\n",
      "Iter: 01300, cost: 0.19706, accu: 0.97608\n",
      "Iter: 01400, cost: 0.18372, accu: 0.98086\n",
      "Iter: 01500, cost: 0.16100, accu: 0.98086\n",
      "Iter: 01600, cost: 0.14842, accu: 0.98086\n",
      "Iter: 01700, cost: 0.13803, accu: 0.98086\n",
      "Iter: 01800, cost: 0.12873, accu: 0.98086\n",
      "Iter: 01900, cost: 0.12087, accu: 0.98086\n",
      "Iter: 02000, cost: 0.11427, accu: 0.98086\n"
     ]
    },
    {
     "data": {
      "image/png": "[encoded data removed]",
      "text/plain": [
       "<Figure size 432x288 with 1 Axes>"
      ]
     },
     "metadata": {
      "needs_background": "light"
     },
     "output_type": "display_data"
    }
   ],
   "source": [
    "# 开始训练\n",
    "params = dnn_model(\n",
    "    train_x, train_y,\n",
    "    nn_architecture,\n",
    ")"
   ]
  },
  {
   "cell_type": "code",
   "execution_count": 133,
   "metadata": {
    "scrolled": false
   },
   "outputs": [
    {
     "name": "stdout",
     "output_type": "stream",
     "text": [
      "预测精确度为：0.80\n"
     ]
    }
   ],
   "source": [
    "# 预测测试集的精确度\n",
    "Y_hat = predict(test_x, test_y, params, nn_architecture)"
   ]
  },
  {
   "cell_type": "code",
   "execution_count": 168,
   "metadata": {},
   "outputs": [
    {
     "name": "stdout",
     "output_type": "stream",
     "text": [
      "这张图片不是猫\n",
      "预测图片不是猫\n",
      "预测正确！\n"
     ]
    },
    {
     "data": {
      "image/png": "[encoded data removed]",
      "text/plain": [
       "<Figure size 360x288 with 1 Axes>"
      ]
     },
     "metadata": {
      "needs_background": "light"
     },
     "output_type": "display_data"
    }
   ],
   "source": [
    "# 显示图片\n",
    "# 因为测试集有 50 张图片，所以我们随机生成 1-50 的整形数字\n",
    "index = randint(1, 49)\n",
    "# 因为在前面，我们把数据展开成了 (12288, 50) 的矩阵，现在让它回归成图片的矩阵\n",
    "img = test_x[:, index].reshape((64, 64, 3))\n",
    "# 显示图片\n",
    "plt.imshow(img)\n",
    "# 把预测分类\n",
    "Y_hat_ = convert_into_class(Y_hat)\n",
    "\n",
    "# 把 1，0 转化成汉字并输出\n",
    "pred_ = '是' if int(Y_hat_[0, index]) else '不是'\n",
    "true_ = '是' if int(test_y[0, index]) else '不是'\n",
    "print ('这张图片' + true_ + '猫')\n",
    "print ('预测图片' + pred_ + '猫')\n",
    "\n",
    "# 判断是否预测正确\n",
    "if int(Y_hat_[0, index]) == int(test_y[0, index]):\n",
    "    print ('预测正确！')\n",
    "else:\n",
    "    print ('预测错误！')"
   ]
  }
 ],
 "metadata": {
  "kernelspec": {
   "display_name": "Python 3",
   "language": "python",
   "name": "python3"
  },
  "language_info": {
   "codemirror_mode": {
    "name": "ipython",
    "version": 3
   },
   "file_extension": ".py",
   "mimetype": "text/x-python",
   "name": "python",
   "nbconvert_exporter": "python",
   "pygments_lexer": "ipython3",
   "version": "3.7.3"
  }
 },
 "nbformat": 4,
 "nbformat_minor": 2
}
